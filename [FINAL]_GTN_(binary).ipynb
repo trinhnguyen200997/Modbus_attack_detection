{
  "nbformat": 4,
  "nbformat_minor": 0,
  "metadata": {
    "colab": {
      "provenance": []
    },
    "kernelspec": {
      "name": "python3",
      "display_name": "Python 3"
    },
    "language_info": {
      "name": "python"
    }
  },
  "cells": [
    {
      "cell_type": "code",
      "source": [
        "import numpy as np\n",
        "import pickle\n",
        "\n",
        "\n",
        "\n",
        "# 불러올 파일 리스트\n",
        "files = [\n",
        "     \"adj_rus (1).npy\", \"edge_feat_rus.npy\",\n",
        "    \"label_bi_rus (1).npy\",  \"node_random (1).npy\"\n",
        "]\n",
        "\n",
        "# 각 파일 로드 및 shape 확인\n",
        "for file in files:\n",
        "    try:\n",
        "        data = np.load(f\"{file}\", allow_pickle=True)\n",
        "        print(f\"{file}: Shape={data.shape}, Type={type(data)}\")\n",
        "    except Exception as e:\n",
        "        print(f\"Error loading {file}: {e}\")\n",
        "\n",
        "# adj_random_list.dict 파일 로드\n",
        "try:\n",
        "    with open(f\"adj_random_list (1).dict\", \"rb\") as f:\n",
        "        adj_random_list = pickle.load(f)\n",
        "    print(f\"adj_random_list.dict (1): Loaded successfully, Type={type(adj_random_list)}\")\n",
        "except Exception as e:\n",
        "    print(f\"Error loading adj_random_list(1).dict: {e}\")\n",
        "\n"
      ],
      "metadata": {
        "colab": {
          "base_uri": "https://localhost:8080/"
        },
        "id": "cwuBVPYWT6v9",
        "outputId": "aa702ce7-df7a-425e-9a97-1b39735b4e4d"
      },
      "execution_count": 6,
      "outputs": [
        {
          "output_type": "stream",
          "name": "stdout",
          "text": [
            "adj_rus (1).npy: Shape=(189216, 2), Type=<class 'numpy.ndarray'>\n",
            "edge_feat_rus.npy: Shape=(189216, 63), Type=<class 'numpy.ndarray'>\n",
            "label_bi_rus (1).npy: Shape=(189216,), Type=<class 'numpy.ndarray'>\n",
            "node_random (1).npy: Shape=(19374,), Type=<class 'numpy.ndarray'>\n",
            "adj_random_list.dict (1): Loaded successfully, Type=<class 'collections.defaultdict'>\n"
          ]
        }
      ]
    },
    {
      "cell_type": "code",
      "source": [
        "# Install PyTorch Geometric and its dependencies\n",
        "!pip install torch-scatter torch-sparse torch-geometric torch-cluster torch-spline-conv -f https://data.pyg.org/whl/torch-2.0.0+cpu.html\n"
      ],
      "metadata": {
        "colab": {
          "base_uri": "https://localhost:8080/"
        },
        "id": "_HB1LMOXUT9l",
        "outputId": "2c5738d4-9adf-4c6a-a8d8-b58a13e1d09c"
      },
      "execution_count": 7,
      "outputs": [
        {
          "output_type": "stream",
          "name": "stdout",
          "text": [
            "Looking in links: https://data.pyg.org/whl/torch-2.0.0+cpu.html\n",
            "Requirement already satisfied: torch-scatter in /usr/local/lib/python3.11/dist-packages (2.1.2+pt20cpu)\n",
            "Requirement already satisfied: torch-sparse in /usr/local/lib/python3.11/dist-packages (0.6.18+pt20cpu)\n",
            "Requirement already satisfied: torch-geometric in /usr/local/lib/python3.11/dist-packages (2.6.1)\n",
            "Requirement already satisfied: torch-cluster in /usr/local/lib/python3.11/dist-packages (1.6.3+pt20cpu)\n",
            "Requirement already satisfied: torch-spline-conv in /usr/local/lib/python3.11/dist-packages (1.2.2+pt20cpu)\n",
            "Requirement already satisfied: scipy in /usr/local/lib/python3.11/dist-packages (from torch-sparse) (1.15.2)\n",
            "Requirement already satisfied: aiohttp in /usr/local/lib/python3.11/dist-packages (from torch-geometric) (3.11.15)\n",
            "Requirement already satisfied: fsspec in /usr/local/lib/python3.11/dist-packages (from torch-geometric) (2025.3.2)\n",
            "Requirement already satisfied: jinja2 in /usr/local/lib/python3.11/dist-packages (from torch-geometric) (3.1.6)\n",
            "Requirement already satisfied: numpy in /usr/local/lib/python3.11/dist-packages (from torch-geometric) (2.0.2)\n",
            "Requirement already satisfied: psutil>=5.8.0 in /usr/local/lib/python3.11/dist-packages (from torch-geometric) (5.9.5)\n",
            "Requirement already satisfied: pyparsing in /usr/local/lib/python3.11/dist-packages (from torch-geometric) (3.2.3)\n",
            "Requirement already satisfied: requests in /usr/local/lib/python3.11/dist-packages (from torch-geometric) (2.32.3)\n",
            "Requirement already satisfied: tqdm in /usr/local/lib/python3.11/dist-packages (from torch-geometric) (4.67.1)\n",
            "Requirement already satisfied: aiohappyeyeballs>=2.3.0 in /usr/local/lib/python3.11/dist-packages (from aiohttp->torch-geometric) (2.6.1)\n",
            "Requirement already satisfied: aiosignal>=1.1.2 in /usr/local/lib/python3.11/dist-packages (from aiohttp->torch-geometric) (1.3.2)\n",
            "Requirement already satisfied: attrs>=17.3.0 in /usr/local/lib/python3.11/dist-packages (from aiohttp->torch-geometric) (25.3.0)\n",
            "Requirement already satisfied: frozenlist>=1.1.1 in /usr/local/lib/python3.11/dist-packages (from aiohttp->torch-geometric) (1.6.0)\n",
            "Requirement already satisfied: multidict<7.0,>=4.5 in /usr/local/lib/python3.11/dist-packages (from aiohttp->torch-geometric) (6.4.3)\n",
            "Requirement already satisfied: propcache>=0.2.0 in /usr/local/lib/python3.11/dist-packages (from aiohttp->torch-geometric) (0.3.1)\n",
            "Requirement already satisfied: yarl<2.0,>=1.17.0 in /usr/local/lib/python3.11/dist-packages (from aiohttp->torch-geometric) (1.20.0)\n",
            "Requirement already satisfied: MarkupSafe>=2.0 in /usr/local/lib/python3.11/dist-packages (from jinja2->torch-geometric) (3.0.2)\n",
            "Requirement already satisfied: charset-normalizer<4,>=2 in /usr/local/lib/python3.11/dist-packages (from requests->torch-geometric) (3.4.1)\n",
            "Requirement already satisfied: idna<4,>=2.5 in /usr/local/lib/python3.11/dist-packages (from requests->torch-geometric) (3.10)\n",
            "Requirement already satisfied: urllib3<3,>=1.21.1 in /usr/local/lib/python3.11/dist-packages (from requests->torch-geometric) (2.4.0)\n",
            "Requirement already satisfied: certifi>=2017.4.17 in /usr/local/lib/python3.11/dist-packages (from requests->torch-geometric) (2025.4.26)\n"
          ]
        }
      ]
    },
    {
      "cell_type": "code",
      "source": [
        "import numpy as np\n",
        "import torch\n",
        "import torch.nn as nn\n",
        "import torch.optim as optim\n",
        "import torch.nn.functional as F\n",
        "from sklearn.metrics import f1_score\n",
        "from sklearn.model_selection import train_test_split\n",
        "from tqdm import tqdm\n",
        "\n",
        "# ---------------------------\n",
        "# Load Data\n",
        "# ---------------------------\n",
        "edge_feat = np.load(\"edge_feat_rus.npy\", allow_pickle=True)\n",
        "adj = np.load(\"adj_rus (1).npy\", allow_pickle=True)\n",
        "label = np.load(\"label_bi_rus (1).npy\")"
      ],
      "metadata": {
        "id": "A4wcsS0lUXFy"
      },
      "execution_count": 8,
      "outputs": []
    },
    {
      "cell_type": "code",
      "source": [
        "print(\"adj shape:\", adj.shape)\n",
        "print(\"adj sample:\", adj[:5])\n",
        "print(\"edge_feat shape:\", edge_feat.shape)\n"
      ],
      "metadata": {
        "colab": {
          "base_uri": "https://localhost:8080/"
        },
        "id": "2glcnSsHXJUD",
        "outputId": "cfa54c2a-c6d8-4678-98cc-32ace3ecc7ad"
      },
      "execution_count": 16,
      "outputs": [
        {
          "output_type": "stream",
          "name": "stdout",
          "text": [
            "adj shape: (189216, 2)\n",
            "adj sample: [[-0.06148469 -0.64621176]\n",
            " [-0.15406769 -0.03041983]\n",
            " [-0.18179593 -0.50044396]\n",
            " [-0.02415821 -0.64520645]\n",
            " [-0.18746155 -0.59695588]]\n",
            "edge_feat shape: (94608, 63)\n"
          ]
        }
      ]
    },
    {
      "cell_type": "code",
      "source": [
        "pip install torch-geometric"
      ],
      "metadata": {
        "colab": {
          "base_uri": "https://localhost:8080/"
        },
        "id": "0jDBUdWLtOWU",
        "outputId": "b5ce210d-79b7-4fd4-ef96-b60cc238b198"
      },
      "execution_count": 25,
      "outputs": [
        {
          "output_type": "stream",
          "name": "stdout",
          "text": [
            "Requirement already satisfied: torch-geometric in /usr/local/lib/python3.11/dist-packages (2.6.1)\n",
            "Requirement already satisfied: aiohttp in /usr/local/lib/python3.11/dist-packages (from torch-geometric) (3.11.15)\n",
            "Requirement already satisfied: fsspec in /usr/local/lib/python3.11/dist-packages (from torch-geometric) (2025.3.2)\n",
            "Requirement already satisfied: jinja2 in /usr/local/lib/python3.11/dist-packages (from torch-geometric) (3.1.6)\n",
            "Requirement already satisfied: numpy in /usr/local/lib/python3.11/dist-packages (from torch-geometric) (2.0.2)\n",
            "Requirement already satisfied: psutil>=5.8.0 in /usr/local/lib/python3.11/dist-packages (from torch-geometric) (5.9.5)\n",
            "Requirement already satisfied: pyparsing in /usr/local/lib/python3.11/dist-packages (from torch-geometric) (3.2.3)\n",
            "Requirement already satisfied: requests in /usr/local/lib/python3.11/dist-packages (from torch-geometric) (2.32.3)\n",
            "Requirement already satisfied: tqdm in /usr/local/lib/python3.11/dist-packages (from torch-geometric) (4.67.1)\n",
            "Requirement already satisfied: aiohappyeyeballs>=2.3.0 in /usr/local/lib/python3.11/dist-packages (from aiohttp->torch-geometric) (2.6.1)\n",
            "Requirement already satisfied: aiosignal>=1.1.2 in /usr/local/lib/python3.11/dist-packages (from aiohttp->torch-geometric) (1.3.2)\n",
            "Requirement already satisfied: attrs>=17.3.0 in /usr/local/lib/python3.11/dist-packages (from aiohttp->torch-geometric) (25.3.0)\n",
            "Requirement already satisfied: frozenlist>=1.1.1 in /usr/local/lib/python3.11/dist-packages (from aiohttp->torch-geometric) (1.6.0)\n",
            "Requirement already satisfied: multidict<7.0,>=4.5 in /usr/local/lib/python3.11/dist-packages (from aiohttp->torch-geometric) (6.4.3)\n",
            "Requirement already satisfied: propcache>=0.2.0 in /usr/local/lib/python3.11/dist-packages (from aiohttp->torch-geometric) (0.3.1)\n",
            "Requirement already satisfied: yarl<2.0,>=1.17.0 in /usr/local/lib/python3.11/dist-packages (from aiohttp->torch-geometric) (1.20.0)\n",
            "Requirement already satisfied: MarkupSafe>=2.0 in /usr/local/lib/python3.11/dist-packages (from jinja2->torch-geometric) (3.0.2)\n",
            "Requirement already satisfied: charset-normalizer<4,>=2 in /usr/local/lib/python3.11/dist-packages (from requests->torch-geometric) (3.4.1)\n",
            "Requirement already satisfied: idna<4,>=2.5 in /usr/local/lib/python3.11/dist-packages (from requests->torch-geometric) (3.10)\n",
            "Requirement already satisfied: urllib3<3,>=1.21.1 in /usr/local/lib/python3.11/dist-packages (from requests->torch-geometric) (2.4.0)\n",
            "Requirement already satisfied: certifi>=2017.4.17 in /usr/local/lib/python3.11/dist-packages (from requests->torch-geometric) (2025.4.26)\n"
          ]
        }
      ]
    },
    {
      "cell_type": "code",
      "source": [
        "pip install torch_geometric torch-scatter torch-sparse torch-cluster torch-spline-conv\n"
      ],
      "metadata": {
        "colab": {
          "base_uri": "https://localhost:8080/"
        },
        "id": "NWAQwCYetylo",
        "outputId": "ccf99c65-66e7-4f58-efec-ee5c990d692f"
      },
      "execution_count": 26,
      "outputs": [
        {
          "output_type": "stream",
          "name": "stdout",
          "text": [
            "Requirement already satisfied: torch_geometric in /usr/local/lib/python3.11/dist-packages (2.6.1)\n",
            "Requirement already satisfied: torch-scatter in /usr/local/lib/python3.11/dist-packages (2.1.2+pt20cpu)\n",
            "Requirement already satisfied: torch-sparse in /usr/local/lib/python3.11/dist-packages (0.6.18+pt20cpu)\n",
            "Requirement already satisfied: torch-cluster in /usr/local/lib/python3.11/dist-packages (1.6.3+pt20cpu)\n",
            "Requirement already satisfied: torch-spline-conv in /usr/local/lib/python3.11/dist-packages (1.2.2+pt20cpu)\n",
            "Requirement already satisfied: aiohttp in /usr/local/lib/python3.11/dist-packages (from torch_geometric) (3.11.15)\n",
            "Requirement already satisfied: fsspec in /usr/local/lib/python3.11/dist-packages (from torch_geometric) (2025.3.2)\n",
            "Requirement already satisfied: jinja2 in /usr/local/lib/python3.11/dist-packages (from torch_geometric) (3.1.6)\n",
            "Requirement already satisfied: numpy in /usr/local/lib/python3.11/dist-packages (from torch_geometric) (2.0.2)\n",
            "Requirement already satisfied: psutil>=5.8.0 in /usr/local/lib/python3.11/dist-packages (from torch_geometric) (5.9.5)\n",
            "Requirement already satisfied: pyparsing in /usr/local/lib/python3.11/dist-packages (from torch_geometric) (3.2.3)\n",
            "Requirement already satisfied: requests in /usr/local/lib/python3.11/dist-packages (from torch_geometric) (2.32.3)\n",
            "Requirement already satisfied: tqdm in /usr/local/lib/python3.11/dist-packages (from torch_geometric) (4.67.1)\n",
            "Requirement already satisfied: scipy in /usr/local/lib/python3.11/dist-packages (from torch-sparse) (1.15.2)\n",
            "Requirement already satisfied: aiohappyeyeballs>=2.3.0 in /usr/local/lib/python3.11/dist-packages (from aiohttp->torch_geometric) (2.6.1)\n",
            "Requirement already satisfied: aiosignal>=1.1.2 in /usr/local/lib/python3.11/dist-packages (from aiohttp->torch_geometric) (1.3.2)\n",
            "Requirement already satisfied: attrs>=17.3.0 in /usr/local/lib/python3.11/dist-packages (from aiohttp->torch_geometric) (25.3.0)\n",
            "Requirement already satisfied: frozenlist>=1.1.1 in /usr/local/lib/python3.11/dist-packages (from aiohttp->torch_geometric) (1.6.0)\n",
            "Requirement already satisfied: multidict<7.0,>=4.5 in /usr/local/lib/python3.11/dist-packages (from aiohttp->torch_geometric) (6.4.3)\n",
            "Requirement already satisfied: propcache>=0.2.0 in /usr/local/lib/python3.11/dist-packages (from aiohttp->torch_geometric) (0.3.1)\n",
            "Requirement already satisfied: yarl<2.0,>=1.17.0 in /usr/local/lib/python3.11/dist-packages (from aiohttp->torch_geometric) (1.20.0)\n",
            "Requirement already satisfied: MarkupSafe>=2.0 in /usr/local/lib/python3.11/dist-packages (from jinja2->torch_geometric) (3.0.2)\n",
            "Requirement already satisfied: charset-normalizer<4,>=2 in /usr/local/lib/python3.11/dist-packages (from requests->torch_geometric) (3.4.1)\n",
            "Requirement already satisfied: idna<4,>=2.5 in /usr/local/lib/python3.11/dist-packages (from requests->torch_geometric) (3.10)\n",
            "Requirement already satisfied: urllib3<3,>=1.21.1 in /usr/local/lib/python3.11/dist-packages (from requests->torch_geometric) (2.4.0)\n",
            "Requirement already satisfied: certifi>=2017.4.17 in /usr/local/lib/python3.11/dist-packages (from requests->torch_geometric) (2025.4.26)\n"
          ]
        }
      ]
    },
    {
      "cell_type": "code",
      "source": [
        "from torch_geometric.nn import SAGEConv, SAGPooling, global_mean_pool\n",
        "\n",
        "class GNN_MGPool(nn.Module):\n",
        "    def __init__(self, in_feats, hidden_feats, out_feats):\n",
        "        super(GNN_MGPool, self).__init__()\n",
        "        self.conv1 = SAGEConv(in_feats, hidden_feats)\n",
        "        self.pool1 = SAGPooling(hidden_feats, ratio=0.5)\n",
        "\n",
        "        self.conv2 = SAGEConv(hidden_feats, hidden_feats)\n",
        "        self.pool2 = SAGPooling(hidden_feats, ratio=0.5)\n",
        "\n",
        "        self.lin = nn.Linear(hidden_feats, out_feats)\n",
        "\n",
        "    def forward(self, data):\n",
        "        x, edge_index, batch = data.x, data.edge_index, data.batch\n",
        "\n",
        "        # Conv + Pool 1\n",
        "        x = F.relu(self.conv1(x, edge_index))\n",
        "        x, edge_index, _, batch, _, _ = self.pool1(x, edge_index, None, batch)\n",
        "\n",
        "        # Conv + Pool 2\n",
        "        x = F.relu(self.conv2(x, edge_index))\n",
        "        x, edge_index, _, batch, _, _ = self.pool2(x, edge_index, None, batch)\n",
        "\n",
        "        # Global Pooling\n",
        "        x = global_mean_pool(x, batch)\n",
        "\n",
        "        return torch.sigmoid(self.lin(x))\n"
      ],
      "metadata": {
        "id": "riXMThh-tU3T"
      },
      "execution_count": 27,
      "outputs": []
    },
    {
      "cell_type": "code",
      "source": [
        "import torch\n",
        "import torch.nn as nn\n",
        "import torch.nn.functional as F\n",
        "import torch.optim as optim\n",
        "import numpy as np\n",
        "\n",
        "# ---------------------------\n",
        "# GTN Model Definition\n",
        "# ---------------------------\n",
        "class GraphTransformer(nn.Module):\n",
        "    def __init__(self, in_feats, hidden_feats, out_feats, num_layers=2, dropout=0.5):\n",
        "        super(GraphTransformer, self).__init__()\n",
        "        self.num_layers = num_layers\n",
        "        self.hidden_feats = hidden_feats\n",
        "        self.dropout = dropout\n",
        "\n",
        "        # Graph Transformer layers (similar to GTN layers)\n",
        "        self.gtn_layers = nn.ModuleList()\n",
        "        for _ in range(num_layers):\n",
        "            self.gtn_layers.append(self.create_gtn_layer(in_feats, hidden_feats))\n",
        "            in_feats = hidden_feats  # Update in_feats for the next layer\n",
        "\n",
        "        self.fc_out = nn.Linear(hidden_feats, out_feats)\n",
        "\n",
        "    def create_gtn_layer(self, in_feats, hidden_feats):\n",
        "        return nn.Sequential(\n",
        "            nn.Linear(in_feats, hidden_feats),\n",
        "            nn.ReLU(),\n",
        "            nn.Dropout(self.dropout)\n",
        "        )\n",
        "\n",
        "    def forward(self, x, adj):\n",
        "        h = x\n",
        "        # Apply each GTN layer\n",
        "        for layer in self.gtn_layers:\n",
        "            h = layer(h)  # Apply GTN layer with learnable parameters\n",
        "\n",
        "        # Apply the final output layer\n",
        "        h = self.fc_out(h)\n",
        "        return F.sigmoid(h)\n",
        "\n",
        "# ---------------------------\n",
        "# Initialize GTN Model, Loss, Optimizer\n",
        "# ---------------------------\n",
        "device = torch.device(\"cuda\" if torch.cuda.is_available() else \"cpu\")\n",
        "\n",
        "num_features = edge_feat.shape[1]\n",
        "num_classes = label.shape[1]  # Correct way to get the number of labels\n",
        "\n",
        "model = GraphTransformer(in_feats=num_features, hidden_feats=128, out_feats=num_classes, num_layers=2).to(device)\n",
        "criterion = nn.BCELoss()  # Binary Cross-Entropy Loss for multi-label classification\n",
        "optimizer = optim.Adam(model.parameters(), lr=0.003)\n",
        "\n",
        "# ---------------------------\n",
        "# Train-Test Split on Reduced Dataset\n",
        "# ---------------------------\n",
        "train_idx, test_idx = train_test_split(np.arange(len(label)), test_size=0.2, random_state=42)\n",
        "train_idx, val_idx = train_test_split(train_idx, test_size=0.1, random_state=42)\n",
        "\n",
        "# Move tensors to GPU if available\n",
        "edge_feat, adj_numeric, label = edge_feat.to(device), adj_numeric.to(device), label.to(device)\n",
        "\n",
        "# ---------------------------\n",
        "# Training Loop for GTN\n",
        "# ---------------------------\n",
        "num_epochs = 10\n",
        "batch_size = 64\n",
        "\n",
        "for epoch in range(num_epochs):\n",
        "    model.train()\n",
        "    epoch_loss = 0.0\n",
        "    correct_predictions = 0\n",
        "    total_samples = 0\n",
        "\n",
        "    # Use tqdm for batch progress tracking\n",
        "    with tqdm(total=len(train_idx) // batch_size, desc=f\"Epoch {epoch+1}/{num_epochs}\", unit=\"batch\") as pbar:\n",
        "        for i in range(0, len(train_idx), batch_size):\n",
        "            batch_idx = train_idx[i:i + batch_size]\n",
        "            batch_feat = edge_feat  # Use full node feature matrix\n",
        "            batch_adj = adj_numeric  # Adjacency is global, not batch-specific\n",
        "            batch_label = label[batch_idx]\n",
        "\n",
        "            optimizer.zero_grad()\n",
        "            outputs = model(batch_feat, batch_adj)  # Running the model\n",
        "            loss = criterion(outputs[batch_idx], batch_label)  # Select only batch outputs\n",
        "            loss.backward()\n",
        "            optimizer.step()\n",
        "\n",
        "            epoch_loss += loss.item()\n",
        "\n",
        "            # Compute Accuracy\n",
        "            predicted_labels = (outputs[batch_idx] > 0.5).float()  # Convert to binary labels\n",
        "            correct_predictions += (predicted_labels == batch_label).sum().item()\n",
        "            total_samples += batch_label.numel()  # Total number of elements in labels\n",
        "\n",
        "            # Update progress bar\n",
        "            pbar.set_postfix(loss=f\"{loss.item():.4f}\")\n",
        "            pbar.update(1)\n",
        "\n",
        "    # Compute and print epoch accuracy\n",
        "    epoch_accuracy = correct_predictions / total_samples\n",
        "    print(f\"Epoch {epoch + 1}/{num_epochs}, Avg Loss: {epoch_loss / len(train_idx):.6f}, Accuracy: {epoch_accuracy:.4f}\")\n"
      ],
      "metadata": {
        "colab": {
          "base_uri": "https://localhost:8080/"
        },
        "id": "axeO7v6mt_yf",
        "outputId": "9e707f57-16fa-4027-d5ed-393803ee331b"
      },
      "execution_count": 30,
      "outputs": [
        {
          "metadata": {
            "tags": null
          },
          "name": "stderr",
          "output_type": "stream",
          "text": [
            "Epoch 1/10: 426batch [01:30,  4.70batch/s, loss=0.1251]\n"
          ]
        },
        {
          "metadata": {
            "tags": null
          },
          "name": "stdout",
          "output_type": "stream",
          "text": [
            "Epoch 1/10, Avg Loss: 0.001712, Accuracy: 0.9856\n"
          ]
        },
        {
          "metadata": {
            "tags": null
          },
          "name": "stderr",
          "output_type": "stream",
          "text": [
            "Epoch 2/10: 426batch [01:30,  4.72batch/s, loss=0.1034]\n"
          ]
        },
        {
          "metadata": {
            "tags": null
          },
          "name": "stdout",
          "output_type": "stream",
          "text": [
            "Epoch 2/10, Avg Loss: 0.001312, Accuracy: 0.9885\n"
          ]
        },
        {
          "metadata": {
            "tags": null
          },
          "name": "stderr",
          "output_type": "stream",
          "text": [
            "Epoch 3/10: 426batch [01:26,  4.94batch/s, loss=0.1340]\n"
          ]
        },
        {
          "metadata": {
            "tags": null
          },
          "name": "stdout",
          "output_type": "stream",
          "text": [
            "Epoch 3/10, Avg Loss: 0.001258, Accuracy: 0.9885\n"
          ]
        },
        {
          "output_type": "stream",
          "name": "stderr",
          "text": [
            "Epoch 4/10: 426batch [01:27,  4.90batch/s, loss=0.1837]\n"
          ]
        },
        {
          "output_type": "stream",
          "name": "stdout",
          "text": [
            "Epoch 4/10, Avg Loss: 0.001227, Accuracy: 0.9887\n"
          ]
        },
        {
          "output_type": "stream",
          "name": "stderr",
          "text": [
            "Epoch 5/10: 426batch [01:29,  4.77batch/s, loss=0.1172]\n"
          ]
        },
        {
          "output_type": "stream",
          "name": "stdout",
          "text": [
            "Epoch 5/10, Avg Loss: 0.001214, Accuracy: 0.9887\n"
          ]
        },
        {
          "output_type": "stream",
          "name": "stderr",
          "text": [
            "Epoch 6/10: 426batch [01:28,  4.79batch/s, loss=0.1592]\n"
          ]
        },
        {
          "output_type": "stream",
          "name": "stdout",
          "text": [
            "Epoch 6/10, Avg Loss: 0.001188, Accuracy: 0.9884\n"
          ]
        },
        {
          "output_type": "stream",
          "name": "stderr",
          "text": [
            "Epoch 7/10: 426batch [01:28,  4.81batch/s, loss=0.0935]\n"
          ]
        },
        {
          "output_type": "stream",
          "name": "stdout",
          "text": [
            "Epoch 7/10, Avg Loss: 0.001148, Accuracy: 0.9887\n"
          ]
        },
        {
          "output_type": "stream",
          "name": "stderr",
          "text": [
            "Epoch 8/10: 426batch [01:31,  4.67batch/s, loss=0.1473]\n"
          ]
        },
        {
          "output_type": "stream",
          "name": "stdout",
          "text": [
            "Epoch 8/10, Avg Loss: 0.001139, Accuracy: 0.9888\n"
          ]
        },
        {
          "output_type": "stream",
          "name": "stderr",
          "text": [
            "Epoch 9/10: 426batch [01:28,  4.84batch/s, loss=0.1345]\n"
          ]
        },
        {
          "output_type": "stream",
          "name": "stdout",
          "text": [
            "Epoch 9/10, Avg Loss: 0.001116, Accuracy: 0.9888\n"
          ]
        },
        {
          "output_type": "stream",
          "name": "stderr",
          "text": [
            "Epoch 10/10: 426batch [01:29,  4.78batch/s, loss=0.0873]"
          ]
        },
        {
          "output_type": "stream",
          "name": "stdout",
          "text": [
            "Epoch 10/10, Avg Loss: 0.001087, Accuracy: 0.9886\n"
          ]
        },
        {
          "output_type": "stream",
          "name": "stderr",
          "text": [
            "\n"
          ]
        }
      ]
    },
    {
      "cell_type": "code",
      "source": [
        "from sklearn.metrics import accuracy_score, f1_score, classification_report, cohen_kappa_score, roc_auc_score\n",
        "\n",
        "# ---------------------------\n",
        "# Evaluation on Validation and Test Set\n",
        "# ---------------------------\n",
        "\n",
        "model.eval()\n",
        "with torch.no_grad(): #no backpropagation turn off all memory for updating\n",
        "    # Validation\n",
        "    val_outputs = model(edge_feat, adj_numeric) #invoke the def forward function\n",
        "    val_outputs = val_outputs[val_idx]  # Select only validation samples\n",
        "    val_labels = label[val_idx]\n",
        "\n",
        "    val_loss = criterion(val_outputs, val_labels)  # Compute validation loss\n",
        "\n",
        "    val_outputs_binary = (val_outputs > 0.5).float()  # Threshold for metrics\n",
        "\n",
        "    # Test\n",
        "    test_outputs = model(edge_feat, adj_numeric)\n",
        "    test_outputs = test_outputs[test_idx]  # Select only test samples\n",
        "    test_labels = label[test_idx]\n",
        "\n",
        "    test_loss = criterion(test_outputs, test_labels)  # Compute test loss\n",
        "\n",
        "    test_outputs_binary = (test_outputs > 0.5).float()  # Threshold for metrics\n",
        "    #float convert the boolean, True become 1, False become 0\n",
        "# ---------------------------\n",
        "# Validation Metrics\n",
        "# ---------------------------\n",
        "val_true = val_labels.cpu().numpy()\n",
        "val_pred = val_outputs_binary.cpu().numpy()\n",
        "val_outputs_proba = val_outputs.cpu().numpy()\n",
        "\n",
        "val_accuracy = accuracy_score(val_true.flatten(), val_pred.flatten())\n",
        "val_kappa = cohen_kappa_score(val_true.flatten(), val_pred.flatten())\n",
        "val_auc = roc_auc_score(val_true.flatten(), val_outputs_proba.flatten())\n",
        "\n",
        "# ---------------------------\n",
        "# Test Metrics\n",
        "# ---------------------------\n",
        "test_true = test_labels.cpu().numpy()\n",
        "test_pred = test_outputs_binary.cpu().numpy()\n",
        "test_outputs_proba = test_outputs.cpu().numpy()\n",
        "\n",
        "test_accuracy = accuracy_score(test_true.flatten(), test_pred.flatten())\n",
        "test_kappa = cohen_kappa_score(test_true.flatten(), test_pred.flatten())\n",
        "test_auc = roc_auc_score(test_true.flatten(), test_outputs_proba.flatten())\n",
        "\n",
        "# ---------------------------\n",
        "# Print Results\n",
        "# ---------------------------\n",
        "print(\"\\n--- Validation Set ---\")\n",
        "print(f\"Validation Loss: {val_loss.item():.4f}\")\n",
        "print(f\"Validation Accuracy: {val_accuracy:.4f}\")\n",
        "print(f\"Validation Cohen's Kappa: {val_kappa:.4f}\")\n",
        "print(f\"Validation AUC: {val_auc:.4f}\")\n",
        "\n",
        "print(\"\\n--- Test Set ---\")\n",
        "print(f\"Test Loss: {test_loss.item():.4f}\")\n",
        "print(f\"Test Accuracy: {test_accuracy:.4f}\")\n",
        "print(f\"Test Cohen's Kappa: {test_kappa:.4f}\")\n",
        "print(f\"Test AUC: {test_auc:.4f}\")\n",
        "\n",
        "print(\"\\nTest Classification Report:\")\n",
        "print(classification_report(test_true, test_pred, zero_division=0))\n"
      ],
      "metadata": {
        "colab": {
          "base_uri": "https://localhost:8080/"
        },
        "id": "ueYNTDLUUeDj",
        "outputId": "57980155-7b74-49d2-cf5c-ed92f157c2b8"
      },
      "execution_count": 31,
      "outputs": [
        {
          "output_type": "stream",
          "name": "stdout",
          "text": [
            "\n",
            "--- Validation Set ---\n",
            "Validation Loss: 0.0517\n",
            "Validation Accuracy: 0.9911\n",
            "Validation Cohen's Kappa: 0.9822\n",
            "Validation AUC: 0.9908\n",
            "\n",
            "--- Test Set ---\n",
            "Test Loss: 0.0601\n",
            "Test Accuracy: 0.9893\n",
            "Test Cohen's Kappa: 0.9786\n",
            "Test AUC: 0.9886\n",
            "\n",
            "Test Classification Report:\n",
            "              precision    recall  f1-score   support\n",
            "\n",
            "           0       0.99      0.99      0.99      4046\n",
            "           1       0.99      0.99      0.99      3523\n",
            "\n",
            "   micro avg       0.99      0.99      0.99      7569\n",
            "   macro avg       0.99      0.99      0.99      7569\n",
            "weighted avg       0.99      0.99      0.99      7569\n",
            " samples avg       0.99      0.99      0.99      7569\n",
            "\n"
          ]
        }
      ]
    }
  ]
}